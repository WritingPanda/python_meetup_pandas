{
 "cells": [
  {
   "cell_type": "code",
   "execution_count": 1,
   "metadata": {
    "collapsed": true,
    "slideshow": {
     "slide_type": "slide"
    }
   },
   "outputs": [],
   "source": [
    "import pandas as pd"
   ]
  },
  {
   "cell_type": "code",
   "execution_count": 2,
   "metadata": {
    "collapsed": true
   },
   "outputs": [],
   "source": [
    "import pandas.io.data"
   ]
  },
  {
   "cell_type": "code",
   "execution_count": 3,
   "metadata": {
    "collapsed": true
   },
   "outputs": [],
   "source": [
    "import numpy as np"
   ]
  },
  {
   "cell_type": "code",
   "execution_count": 4,
   "metadata": {
    "collapsed": true
   },
   "outputs": [],
   "source": [
    "import matplotlib.pyplot as plt"
   ]
  },
  {
   "cell_type": "code",
   "execution_count": 5,
   "metadata": {
    "collapsed": true
   },
   "outputs": [],
   "source": [
    "import datetime"
   ]
  },
  {
   "cell_type": "code",
   "execution_count": 6,
   "metadata": {
    "collapsed": false
   },
   "outputs": [],
   "source": [
    "tech_stocks = ('AAPL', 'MSFT', 'GOOG', 'FB', 'TSLA',)\n",
    "bank_stocks = ('WFC', 'JPM', 'C', 'BAC', 'BBT',)\n",
    "food_stocks = ('JJSF', 'TSN', 'GIS', 'HRL', 'MJN',)\n",
    "cybersec_stocks = ('PANW', 'FTNT', 'SYMC', 'CSCO', 'CHKP',)"
   ]
  },
  {
   "cell_type": "code",
   "execution_count": 7,
   "metadata": {
    "collapsed": true
   },
   "outputs": [],
   "source": [
    "# Apple Computers\n",
    "AAPL = pd.io.data.get_data_yahoo('AAPL',\n",
    "                                 start=datetime.datetime(2000, 7, 1),\n",
    "                                 end=datetime.datetime(2015, 7, 1))"
   ]
  },
  {
   "cell_type": "code",
   "execution_count": 8,
   "metadata": {
    "collapsed": true
   },
   "outputs": [],
   "source": [
    "# Microsoft\n",
    "MSFT = pd.io.data.get_data_yahoo('MSFT',\n",
    "                                 start=datetime.datetime(2000, 7, 1),\n",
    "                                 end=datetime.datetime(2015, 7, 1))"
   ]
  },
  {
   "cell_type": "code",
   "execution_count": 9,
   "metadata": {
    "collapsed": true
   },
   "outputs": [],
   "source": [
    "# Google\n",
    "GOOG = pd.io.data.get_data_yahoo('GOOG',\n",
    "                                 start=datetime.datetime(2000, 7, 1),\n",
    "                                 end=datetime.datetime(2015, 7, 1))"
   ]
  },
  {
   "cell_type": "code",
   "execution_count": 10,
   "metadata": {
    "collapsed": true
   },
   "outputs": [],
   "source": [
    "# Tesla\n",
    "TSLA = pd.io.data.get_data_yahoo('TSLA',\n",
    "                                 start=datetime.datetime(2000, 7, 1),\n",
    "                                 end=datetime.datetime(2015, 7, 1))"
   ]
  },
  {
   "cell_type": "code",
   "execution_count": 11,
   "metadata": {
    "collapsed": true
   },
   "outputs": [],
   "source": [
    "# Wells Fargo\n",
    "WFC = pd.io.data.get_data_yahoo('WFC',\n",
    "                                start=datetime.datetime(2000, 7, 1),\n",
    "                                end=datetime.datetime(2015, 7, 1))"
   ]
  },
  {
   "cell_type": "code",
   "execution_count": 12,
   "metadata": {
    "collapsed": true
   },
   "outputs": [],
   "source": [
    "# J.P. Morgan\n",
    "JPM = pd.io.data.get_data_yahoo('JPM',\n",
    "                                start=datetime.datetime(2000, 7, 1),\n",
    "                                end=datetime.datetime(2015, 7, 1))"
   ]
  },
  {
   "cell_type": "code",
   "execution_count": 13,
   "metadata": {
    "collapsed": true
   },
   "outputs": [],
   "source": [
    "# Citi Group\n",
    "C = pd.io.data.get_data_yahoo('C',\n",
    "                              start=datetime.datetime(2000, 7, 1),\n",
    "                              end=datetime.datetime(2015, 7, 1))"
   ]
  },
  {
   "cell_type": "code",
   "execution_count": 14,
   "metadata": {
    "collapsed": true
   },
   "outputs": [],
   "source": [
    "# Bank of America\n",
    "BAC = pd.io.data.get_data_yahoo('BAC',\n",
    "                                start=datetime.datetime(2000, 7, 1),\n",
    "                                end=datetime.datetime(2015, 7, 1))"
   ]
  },
  {
   "cell_type": "code",
   "execution_count": 15,
   "metadata": {
    "collapsed": true
   },
   "outputs": [],
   "source": [
    "# BB&T\n",
    "BBT = pd.io.data.get_data_yahoo('BBT',\n",
    "                                start=datetime.datetime(2000, 7, 1),\n",
    "                                end=datetime.datetime(2015, 7, 1))"
   ]
  },
  {
   "cell_type": "code",
   "execution_count": 16,
   "metadata": {
    "collapsed": true
   },
   "outputs": [],
   "source": [
    "# J&J Snack Foods Corp\n",
    "JJSF = pd.io.data.get_data_yahoo('JJSF',\n",
    "                                 start=datetime.datetime(2000, 7, 1),\n",
    "                                 end=datetime.datetime(2015, 7, 1))"
   ]
  },
  {
   "cell_type": "code",
   "execution_count": 17,
   "metadata": {
    "collapsed": true
   },
   "outputs": [],
   "source": [
    "# Tyson Foods, Inc.\n",
    "TSN = pd.io.data.get_data_yahoo('TSN',\n",
    "                                start=datetime.datetime(2000, 7, 1),\n",
    "                                end=datetime.datetime(2015, 7, 1))"
   ]
  },
  {
   "cell_type": "code",
   "execution_count": 18,
   "metadata": {
    "collapsed": true
   },
   "outputs": [],
   "source": [
    "# General Mills\n",
    "GIS = pd.io.data.get_data_yahoo('TSN',\n",
    "                                start=datetime.datetime(2000, 7, 1),\n",
    "                                end=datetime.datetime(2015, 7, 1))"
   ]
  },
  {
   "cell_type": "code",
   "execution_count": 19,
   "metadata": {
    "collapsed": true
   },
   "outputs": [],
   "source": [
    "# Hormel Foods Corporation\n",
    "HRL = pd.io.data.get_data_yahoo('HRL',\n",
    "                                start=datetime.datetime(2000, 7, 1),\n",
    "                                end=datetime.datetime(2015, 7, 1))"
   ]
  },
  {
   "cell_type": "code",
   "execution_count": 20,
   "metadata": {
    "collapsed": true
   },
   "outputs": [],
   "source": [
    "# Mead Johnson Nutrition Company\n",
    "MJN = pd.io.data.get_data_yahoo('MJN',\n",
    "                                start=datetime.datetime(2000, 7, 1),\n",
    "                                end=datetime.datetime(2015, 7, 1))"
   ]
  },
  {
   "cell_type": "code",
   "execution_count": 21,
   "metadata": {
    "collapsed": true
   },
   "outputs": [],
   "source": [
    "# Palo Alto Networks, Inc.\n",
    "PANW = pd.io.data.get_data_yahoo('PANW',\n",
    "                                 start=datetime.datetime(2000, 7, 1),\n",
    "                                 end=datetime.datetime(2015, 7, 1))"
   ]
  },
  {
   "cell_type": "code",
   "execution_count": 22,
   "metadata": {
    "collapsed": true
   },
   "outputs": [],
   "source": [
    "# Fortinet Inc.\n",
    "FTNT = pd.io.data.get_data_yahoo('FTNT',\n",
    "                                 start=datetime.datetime(2000, 7, 1),\n",
    "                                 end=datetime.datetime(2015, 7, 1))"
   ]
  },
  {
   "cell_type": "code",
   "execution_count": 23,
   "metadata": {
    "collapsed": true
   },
   "outputs": [],
   "source": [
    "# Symantec\n",
    "SYMC = pd.io.data.get_data_yahoo('SYMC',\n",
    "                                 start=datetime.datetime(2000, 7, 1),\n",
    "                                 end=datetime.datetime(2015, 7, 1))"
   ]
  },
  {
   "cell_type": "code",
   "execution_count": 24,
   "metadata": {
    "collapsed": true
   },
   "outputs": [],
   "source": [
    "# Cisco\n",
    "CSCO = pd.io.data.get_data_yahoo('CSCO',\n",
    "                                 start=datetime.datetime(2000, 7, 1),\n",
    "                                 end=datetime.datetime(2015, 7, 1))"
   ]
  },
  {
   "cell_type": "code",
   "execution_count": 25,
   "metadata": {
    "collapsed": true
   },
   "outputs": [],
   "source": [
    "# Check Point Software Technologies Ltd.\n",
    "CHKP = pd.io.data.get_data_yahoo('CHKP',\n",
    "                                 start=datetime.datetime(2000, 7, 1),\n",
    "                                 end=datetime.datetime(2015, 7, 1))"
   ]
  },
  {
   "cell_type": "markdown",
   "metadata": {},
   "source": [
    "#Summary Statistics of Data"
   ]
  },
  {
   "cell_type": "code",
   "execution_count": 235,
   "metadata": {
    "collapsed": false
   },
   "outputs": [],
   "source": [
    "AAPL_sum_stat= AAPL.describe()"
   ]
  },
  {
   "cell_type": "code",
   "execution_count": 238,
   "metadata": {
    "collapsed": true
   },
   "outputs": [
    {
     "data": {
      "text/html": [
       "<div>\n",
       "<table border=\"1\" class=\"dataframe\">\n",
       "  <thead>\n",
       "    <tr style=\"text-align: right;\">\n",
       "      <th></th>\n",
       "      <th>Open</th>\n",
       "      <th>High</th>\n",
       "      <th>Low</th>\n",
       "      <th>Close</th>\n",
       "      <th>Volume</th>\n",
       "      <th>Adj Close</th>\n",
       "    </tr>\n",
       "  </thead>\n",
       "  <tbody>\n",
       "    <tr>\n",
       "      <th>count</th>\n",
       "      <td>3772.000000</td>\n",
       "      <td>3772.000000</td>\n",
       "      <td>3772.000000</td>\n",
       "      <td>3772.000000</td>\n",
       "      <td>3.772000e+03</td>\n",
       "      <td>3772.000000</td>\n",
       "    </tr>\n",
       "    <tr>\n",
       "      <th>mean</th>\n",
       "      <td>178.882327</td>\n",
       "      <td>180.809002</td>\n",
       "      <td>176.696281</td>\n",
       "      <td>178.794055</td>\n",
       "      <td>1.393830e+08</td>\n",
       "      <td>30.522986</td>\n",
       "    </tr>\n",
       "    <tr>\n",
       "      <th>std</th>\n",
       "      <td>183.201516</td>\n",
       "      <td>184.674587</td>\n",
       "      <td>181.440553</td>\n",
       "      <td>183.075240</td>\n",
       "      <td>1.013249e+08</td>\n",
       "      <td>34.024475</td>\n",
       "    </tr>\n",
       "    <tr>\n",
       "      <th>min</th>\n",
       "      <td>12.990040</td>\n",
       "      <td>13.189960</td>\n",
       "      <td>12.719980</td>\n",
       "      <td>13.119960</td>\n",
       "      <td>9.835000e+06</td>\n",
       "      <td>0.880286</td>\n",
       "    </tr>\n",
       "    <tr>\n",
       "      <th>25%</th>\n",
       "      <td>30.814978</td>\n",
       "      <td>31.340014</td>\n",
       "      <td>30.390012</td>\n",
       "      <td>30.862510</td>\n",
       "      <td>7.129535e+07</td>\n",
       "      <td>2.070727</td>\n",
       "    </tr>\n",
       "    <tr>\n",
       "      <th>50%</th>\n",
       "      <td>100.400002</td>\n",
       "      <td>101.485000</td>\n",
       "      <td>98.810001</td>\n",
       "      <td>100.105001</td>\n",
       "      <td>1.099528e+08</td>\n",
       "      <td>16.169950</td>\n",
       "    </tr>\n",
       "    <tr>\n",
       "      <th>75%</th>\n",
       "      <td>270.329966</td>\n",
       "      <td>272.570003</td>\n",
       "      <td>267.950012</td>\n",
       "      <td>270.182485</td>\n",
       "      <td>1.781799e+08</td>\n",
       "      <td>51.992075</td>\n",
       "    </tr>\n",
       "    <tr>\n",
       "      <th>max</th>\n",
       "      <td>702.410042</td>\n",
       "      <td>705.070023</td>\n",
       "      <td>699.569977</td>\n",
       "      <td>702.100021</td>\n",
       "      <td>1.855410e+09</td>\n",
       "      <td>132.539993</td>\n",
       "    </tr>\n",
       "  </tbody>\n",
       "</table>\n",
       "</div>"
      ],
      "text/plain": [
       "              Open         High          Low        Close        Volume  \\\n",
       "count  3772.000000  3772.000000  3772.000000  3772.000000  3.772000e+03   \n",
       "mean    178.882327   180.809002   176.696281   178.794055  1.393830e+08   \n",
       "std     183.201516   184.674587   181.440553   183.075240  1.013249e+08   \n",
       "min      12.990040    13.189960    12.719980    13.119960  9.835000e+06   \n",
       "25%      30.814978    31.340014    30.390012    30.862510  7.129535e+07   \n",
       "50%     100.400002   101.485000    98.810001   100.105001  1.099528e+08   \n",
       "75%     270.329966   272.570003   267.950012   270.182485  1.781799e+08   \n",
       "max     702.410042   705.070023   699.569977   702.100021  1.855410e+09   \n",
       "\n",
       "         Adj Close  \n",
       "count  3772.000000  \n",
       "mean     30.522986  \n",
       "std      34.024475  \n",
       "min       0.880286  \n",
       "25%       2.070727  \n",
       "50%      16.169950  \n",
       "75%      51.992075  \n",
       "max     132.539993  "
      ]
     },
     "execution_count": 238,
     "metadata": {},
     "output_type": "execute_result"
    }
   ],
   "source": [
    "AAPL_sum_stat"
   ]
  },
  {
   "cell_type": "code",
   "execution_count": 237,
   "metadata": {
    "collapsed": true
   },
   "outputs": [
    {
     "data": {
      "text/html": [
       "<div>\n",
       "<table border=\"1\" class=\"dataframe\">\n",
       "  <thead>\n",
       "    <tr style=\"text-align: right;\">\n",
       "      <th></th>\n",
       "      <th>High</th>\n",
       "      <th>Low</th>\n",
       "      <th>Close</th>\n",
       "      <th>Volume</th>\n",
       "    </tr>\n",
       "  </thead>\n",
       "  <tbody>\n",
       "    <tr>\n",
       "      <th>count</th>\n",
       "      <td>3772.000000</td>\n",
       "      <td>3772.000000</td>\n",
       "      <td>3772.000000</td>\n",
       "      <td>3.772000e+03</td>\n",
       "    </tr>\n",
       "    <tr>\n",
       "      <th>mean</th>\n",
       "      <td>180.809002</td>\n",
       "      <td>176.696281</td>\n",
       "      <td>178.794055</td>\n",
       "      <td>1.393830e+08</td>\n",
       "    </tr>\n",
       "    <tr>\n",
       "      <th>std</th>\n",
       "      <td>184.674587</td>\n",
       "      <td>181.440553</td>\n",
       "      <td>183.075240</td>\n",
       "      <td>1.013249e+08</td>\n",
       "    </tr>\n",
       "    <tr>\n",
       "      <th>min</th>\n",
       "      <td>13.189960</td>\n",
       "      <td>12.719980</td>\n",
       "      <td>13.119960</td>\n",
       "      <td>9.835000e+06</td>\n",
       "    </tr>\n",
       "    <tr>\n",
       "      <th>25%</th>\n",
       "      <td>31.340014</td>\n",
       "      <td>30.390012</td>\n",
       "      <td>30.862510</td>\n",
       "      <td>7.129535e+07</td>\n",
       "    </tr>\n",
       "    <tr>\n",
       "      <th>50%</th>\n",
       "      <td>101.485000</td>\n",
       "      <td>98.810001</td>\n",
       "      <td>100.105001</td>\n",
       "      <td>1.099528e+08</td>\n",
       "    </tr>\n",
       "    <tr>\n",
       "      <th>75%</th>\n",
       "      <td>272.570003</td>\n",
       "      <td>267.950012</td>\n",
       "      <td>270.182485</td>\n",
       "      <td>1.781799e+08</td>\n",
       "    </tr>\n",
       "    <tr>\n",
       "      <th>max</th>\n",
       "      <td>705.070023</td>\n",
       "      <td>699.569977</td>\n",
       "      <td>702.100021</td>\n",
       "      <td>1.855410e+09</td>\n",
       "    </tr>\n",
       "  </tbody>\n",
       "</table>\n",
       "</div>"
      ],
      "text/plain": [
       "              High          Low        Close        Volume\n",
       "count  3772.000000  3772.000000  3772.000000  3.772000e+03\n",
       "mean    180.809002   176.696281   178.794055  1.393830e+08\n",
       "std     184.674587   181.440553   183.075240  1.013249e+08\n",
       "min      13.189960    12.719980    13.119960  9.835000e+06\n",
       "25%      31.340014    30.390012    30.862510  7.129535e+07\n",
       "50%     101.485000    98.810001   100.105001  1.099528e+08\n",
       "75%     272.570003   267.950012   270.182485  1.781799e+08\n",
       "max     705.070023   699.569977   702.100021  1.855410e+09"
      ]
     },
     "execution_count": 237,
     "metadata": {},
     "output_type": "execute_result"
    }
   ],
   "source": [
    "AAPL_sum_stat.iloc[:,1:5]"
   ]
  },
  {
   "cell_type": "markdown",
   "metadata": {},
   "source": [
    "#Merging Data Frames"
   ]
  },
  {
   "cell_type": "code",
   "execution_count": null,
   "metadata": {
    "collapsed": true
   },
   "outputs": [],
   "source": []
  },
  {
   "cell_type": "code",
   "execution_count": null,
   "metadata": {
    "collapsed": true
   },
   "outputs": [],
   "source": []
  },
  {
   "cell_type": "markdown",
   "metadata": {},
   "source": [
    "#Slicing and Dicing"
   ]
  },
  {
   "cell_type": "code",
   "execution_count": null,
   "metadata": {
    "collapsed": true
   },
   "outputs": [],
   "source": []
  },
  {
   "cell_type": "code",
   "execution_count": null,
   "metadata": {
    "collapsed": true
   },
   "outputs": [],
   "source": []
  },
  {
   "cell_type": "markdown",
   "metadata": {},
   "source": [
    "#Applying a Function to Data Frame"
   ]
  },
  {
   "cell_type": "code",
   "execution_count": null,
   "metadata": {
    "collapsed": true
   },
   "outputs": [],
   "source": []
  },
  {
   "cell_type": "code",
   "execution_count": null,
   "metadata": {
    "collapsed": true
   },
   "outputs": [],
   "source": []
  },
  {
   "cell_type": "code",
   "execution_count": null,
   "metadata": {
    "collapsed": true
   },
   "outputs": [],
   "source": []
  },
  {
   "cell_type": "markdown",
   "metadata": {},
   "source": [
    "#Using functions on data (with lambda)"
   ]
  },
  {
   "cell_type": "code",
   "execution_count": 207,
   "metadata": {
    "collapsed": true
   },
   "outputs": [
    {
     "data": {
      "text/plain": [
       "Open         3.759010e+03\n",
       "High         3.758810e+03\n",
       "Low          3.759280e+03\n",
       "Close        3.758880e+03\n",
       "Volume       1.855406e+09\n",
       "Adj Close    3.771120e+03\n",
       "dtype: float64"
      ]
     },
     "execution_count": 207,
     "metadata": {},
     "output_type": "execute_result"
    }
   ],
   "source": [
    "AAPL_sum_stat.apply(lambda y: y.max() - y.min())"
   ]
  },
  {
   "cell_type": "markdown",
   "metadata": {},
   "source": [
    "#Plot Results"
   ]
  },
  {
   "cell_type": "code",
   "execution_count": 40,
   "metadata": {
    "collapsed": true
   },
   "outputs": [
    {
     "data": {
      "text/plain": [
       "<matplotlib.axes._subplots.AxesSubplot at 0xcf60c50>"
      ]
     },
     "execution_count": 40,
     "metadata": {},
     "output_type": "execute_result"
    }
   ],
   "source": [
    "AAPL.plot(); MSFT.plot()"
   ]
  },
  {
   "cell_type": "code",
   "execution_count": 41,
   "metadata": {
    "collapsed": false
   },
   "outputs": [],
   "source": [
    "ts=AAPL.iloc[:,1:2]"
   ]
  },
  {
   "cell_type": "code",
   "execution_count": 34,
   "metadata": {
    "collapsed": true
   },
   "outputs": [
    {
     "data": {
      "text/plain": [
       "<matplotlib.axes._subplots.AxesSubplot at 0x9bb6b30>"
      ]
     },
     "execution_count": 34,
     "metadata": {},
     "output_type": "execute_result"
    }
   ],
   "source": [
    "ts.plot()"
   ]
  },
  {
   "cell_type": "code",
   "execution_count": 39,
   "metadata": {
    "collapsed": true
   },
   "outputs": [],
   "source": [
    "plt.show()"
   ]
  },
  {
   "cell_type": "code",
   "execution_count": null,
   "metadata": {
    "collapsed": true
   },
   "outputs": [],
   "source": []
  }
 ],
 "metadata": {
  "kernelspec": {
   "display_name": "Python 2",
   "language": "python",
   "name": "python2"
  },
  "language_info": {
   "codemirror_mode": {
    "name": "ipython",
    "version": 2
   },
   "file_extension": ".py",
   "mimetype": "text/x-python",
   "name": "python",
   "nbconvert_exporter": "python",
   "pygments_lexer": "ipython2",
   "version": "2.7.8"
  }
 },
 "nbformat": 4,
 "nbformat_minor": 0
}
